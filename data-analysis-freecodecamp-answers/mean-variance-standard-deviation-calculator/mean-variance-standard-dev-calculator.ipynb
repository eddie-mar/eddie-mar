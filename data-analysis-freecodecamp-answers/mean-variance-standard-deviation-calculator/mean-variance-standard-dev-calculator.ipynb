{
 "cells": [
  {
   "cell_type": "code",
   "execution_count": 1,
   "id": "7548a01e-2c18-4ecc-9840-ff9bda4d6acf",
   "metadata": {},
   "outputs": [
    {
     "ename": "ModuleNotFoundError",
     "evalue": "No module named 'numpy'",
     "output_type": "error",
     "traceback": [
      "\u001b[0;31m---------------------------------------------------------------------------\u001b[0m",
      "\u001b[0;31mModuleNotFoundError\u001b[0m                       Traceback (most recent call last)",
      "Cell \u001b[0;32mIn[1], line 1\u001b[0m\n\u001b[0;32m----> 1\u001b[0m \u001b[38;5;28;01mimport\u001b[39;00m\u001b[38;5;250m \u001b[39m\u001b[38;5;21;01mnumpy\u001b[39;00m\u001b[38;5;250m \u001b[39m\u001b[38;5;28;01mas\u001b[39;00m\u001b[38;5;250m \u001b[39m\u001b[38;5;21;01mnp\u001b[39;00m\n\u001b[1;32m      3\u001b[0m \u001b[38;5;28;01mdef\u001b[39;00m\u001b[38;5;250m \u001b[39m\u001b[38;5;21mcalculate\u001b[39m(working_list):\n\u001b[1;32m      4\u001b[0m     \u001b[38;5;28;01mif\u001b[39;00m \u001b[38;5;28mlen\u001b[39m(working_list) \u001b[38;5;241m!=\u001b[39m \u001b[38;5;241m9\u001b[39m:\n",
      "\u001b[0;31mModuleNotFoundError\u001b[0m: No module named 'numpy'"
     ]
    }
   ],
   "source": [
    "import numpy as np\n",
    "\n",
    "def calculate(working_list):\n",
    "    if len(working_list) != 9:\n",
    "        raise ValueError('List must contain nine numbers.')\n",
    "    working_array = np.array(working_list)\n",
    "\n",
    "    calculations = dict()\n",
    "    axes = [0, 1, None]\n",
    "\n",
    "    calculations['mean'] = [working_array.mean(axis=i) for i in axes]\n",
    "    calculations['variance'] = [working_array.var(axis=i) for i in axes]\n",
    "    calculations['standard deviation'] = [working_array.std(axis=i) for i in axes]\n",
    "    calculations['max'] = [working_array.max(axis=i) for i in axes]\n",
    "    calculations['min'] = [working_array.min(axis=i) for i in axes]\n",
    "    calculations['sum'] = [working_array.sum(axis=i) for i in axes]\n",
    "\n",
    "    for key in calculations.keys():\n",
    "        for index in range(len(calculations[key]) - 1):\n",
    "            calculations[key][index] = list(calculations[key][index])\n",
    "\n",
    "    return calculations"
   ]
  },
  {
   "cell_type": "code",
   "execution_count": null,
   "id": "52b1b6e5-347a-453d-9365-fa8764448283",
   "metadata": {},
   "outputs": [],
   "source": []
  }
 ],
 "metadata": {
  "kernelspec": {
   "display_name": "Python 3 (ipykernel)",
   "language": "python",
   "name": "python3"
  },
  "language_info": {
   "codemirror_mode": {
    "name": "ipython",
    "version": 3
   },
   "file_extension": ".py",
   "mimetype": "text/x-python",
   "name": "python",
   "nbconvert_exporter": "python",
   "pygments_lexer": "ipython3",
   "version": "3.12.3"
  }
 },
 "nbformat": 4,
 "nbformat_minor": 5
}
