{
 "cells": [
  {
   "cell_type": "code",
   "execution_count": null,
   "id": "2fea0536-4ac9-4113-8780-0fbf7b90158b",
   "metadata": {},
   "outputs": [],
   "source": [
    "import pandas as pd\n",
    "import matplotlib.pyplot as plt\n",
    "from scipy.stats import linregress\n",
    "\n",
    "\n",
    "def draw_plot():\n",
    "    # Read data from file\n",
    "    df = pd.read_csv('epa-sea-level.csv')\n",
    "\n",
    "    # Create scatter plot\n",
    "    fig, ax = plt.subplots(figsize=(12, 6))\n",
    "    ax.scatter(df['Year'], df['CSIRO Adjusted Sea Level'])\n",
    "\n",
    "    # Create first line of best fit\n",
    "    sea_lr = linregress(df['Year'], df['CSIRO Adjusted Sea Level'])\n",
    "    x = range(df['Year'][0], 2051)\n",
    "    ax.plot(x, sea_lr.slope * x + sea_lr.intercept)\n",
    "\n",
    "    # Create second line of best fit\n",
    "    df_2000 = df[df['Year'] >= 2000]\n",
    "    sea_lr2 = linregress(df_2000['Year'], df_2000['CSIRO Adjusted Sea Level'])\n",
    "    x = range(df_2000['Year'][0], 2051)\n",
    "    ax.plot(x, sea_lr2.slope * x + sea_lr2.intercept)\n",
    "\n",
    "    # Add labels and title\n",
    "    ax.set_xlabel('Year')\n",
    "    ax.set_ylabel('Sea Level (inches)')\n",
    "    ax.set_title('Rise in Sea Level')\n",
    "\n",
    "    # Save plot and return data for testing (DO NOT MODIFY)\n",
    "    plt.savefig('sea_level_plot.png')\n",
    "    return plt.gca()\n",
    "\n"
   ]
  }
 ],
 "metadata": {
  "kernelspec": {
   "display_name": "Python 3 (ipykernel)",
   "language": "python",
   "name": "python3"
  },
  "language_info": {
   "codemirror_mode": {
    "name": "ipython",
    "version": 3
   },
   "file_extension": ".py",
   "mimetype": "text/x-python",
   "name": "python",
   "nbconvert_exporter": "python",
   "pygments_lexer": "ipython3",
   "version": "3.12.3"
  }
 },
 "nbformat": 4,
 "nbformat_minor": 5
}
